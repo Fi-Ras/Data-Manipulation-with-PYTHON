{
 "cells": [
  {
   "cell_type": "code",
   "execution_count": 1,
   "metadata": {},
   "outputs": [],
   "source": [
    "# Load libraries \n",
    "import numpy as np \n",
    "import pandas as pd \n",
    "import matplotlib.pyplot as plt"
   ]
  },
  {
   "cell_type": "code",
   "execution_count": 2,
   "metadata": {},
   "outputs": [
    {
     "name": "stdout",
     "output_type": "stream",
     "text": [
      "     country food_category  consumption  co2_emission\n",
      "1  Argentina          pork        10.51         37.20\n",
      "2  Argentina       poultry        38.66         41.53\n",
      "3  Argentina          beef        55.48       1712.00\n",
      "4  Argentina     lamb_goat         1.56         54.63\n",
      "5  Argentina          fish         4.36          6.96\n",
      " \n",
      "__________________________________________________\n",
      "Data Shape is : (1430, 4)\n",
      "Number of rows is : 1430\n",
      "Number of culomns is : 4\n"
     ]
    }
   ],
   "source": [
    "# Importing Datasets\n",
    "food_consumption=pd.read_csv('food_consumption.csv', index_col='Unnamed: 0')\n",
    "print(food_consumption.head(), end='\\n \\n')\n",
    "print('_____'*10)\n",
    "#See the shape of the Data Frame \n",
    "print(f'Data Shape is : {food_consumption.shape}\\nNumber of rows is : {food_consumption.shape[0]}\\nNumber of culomns is : {food_consumption.shape[1]}')"
   ]
  },
  {
   "cell_type": "code",
   "execution_count": 3,
   "metadata": {},
   "outputs": [
    {
     "name": "stdout",
     "output_type": "stream",
     "text": [
      "<class 'pandas.core.frame.DataFrame'>\n",
      "Int64Index: 1430 entries, 1 to 1430\n",
      "Data columns (total 4 columns):\n",
      " #   Column         Non-Null Count  Dtype  \n",
      "---  ------         --------------  -----  \n",
      " 0   country        1430 non-null   object \n",
      " 1   food_category  1430 non-null   object \n",
      " 2   consumption    1430 non-null   float64\n",
      " 3   co2_emission   1430 non-null   float64\n",
      "dtypes: float64(2), object(2)\n",
      "memory usage: 55.9+ KB\n",
      "None\n"
     ]
    }
   ],
   "source": [
    "# See some useful informations such as (NaNs, Name of columns and type of variables)\n",
    "print(food_consumption.info())"
   ]
  },
  {
   "cell_type": "code",
   "execution_count": 4,
   "metadata": {},
   "outputs": [
    {
     "name": "stdout",
     "output_type": "stream",
     "text": [
      "       consumption  co2_emission\n",
      "count  1430.000000   1430.000000\n",
      "mean     28.110406     74.383993\n",
      "std      49.818044    152.098566\n",
      "min       0.000000      0.000000\n",
      "25%       2.365000      5.210000\n",
      "50%       8.890000     16.530000\n",
      "75%      28.132500     62.597500\n",
      "max     430.760000   1712.000000\n"
     ]
    }
   ],
   "source": [
    "# See some DataFrame statiscis \n",
    "print(food_consumption.describe())"
   ]
  },
  {
   "cell_type": "code",
   "execution_count": 5,
   "metadata": {},
   "outputs": [
    {
     "name": "stdout",
     "output_type": "stream",
     "text": [
      "[   0.        5.21     16.53     62.5975 1712.    ]\n"
     ]
    }
   ],
   "source": [
    "# Calculate the quartiles of co2_emission\n",
    "quartiles=np.quantile(food_consumption['co2_emission'], [0, 0.25, 0.5, 0.75, 1])\n",
    "print(quartiles)\n"
   ]
  },
  {
   "cell_type": "code",
   "execution_count": null,
   "metadata": {},
   "outputs": [
    {
     "name": "stdout",
     "output_type": "stream",
     "text": [
      "[   0.       3.54    11.026   25.59    99.978 1712.   ]\n"
     ]
    }
   ],
   "source": [
    "# Calculate the six quantiles that split up the data into 5 pieces (quintiles) of the co2_emission column of food_consumption.\n",
    "print(np.quantile(food_consumption['co2_emission'], [0, 0.2, 0.4, 0.6, 0.8, 1]))"
   ]
  },
  {
   "cell_type": "code",
   "execution_count": null,
   "metadata": {},
   "outputs": [
    {
     "name": "stdout",
     "output_type": "stream",
     "text": [
      "[0.00000e+00 6.68000e-01 3.54000e+00 7.04000e+00 1.10260e+01 1.65300e+01\n",
      " 2.55900e+01 4.42710e+01 9.99780e+01 2.03629e+02 1.71200e+03]\n"
     ]
    }
   ],
   "source": [
    "# Calculate the six quantiles that split up the data into 5 pieces (quintiles) of the co2_emission column of food_consumption.\n",
    "print(np.quantile(food_consumption['co2_emission'], [0, 0.1, 0.2, 0.3, 0.4, 0.5, 0.6, 0.7, 0.8, 0.9, 1]))"
   ]
  },
  {
   "cell_type": "code",
   "execution_count": 41,
   "metadata": {},
   "outputs": [
    {
     "name": "stdout",
     "output_type": "stream",
     "text": [
      "                        var         std\n",
      "food_category                          \n",
      "beef           88748.408132  297.906710\n",
      "dairy          17671.891985  132.935669\n",
      "eggs              21.371819    4.622966\n",
      "fish             921.637349   30.358481\n",
      "lamb_goat      16475.518363  128.356996\n",
      "nuts              35.639652    5.969895\n",
      "pork            3094.963537   55.632396\n",
      "poultry          245.026801   15.653332\n",
      "rice            2281.376243   47.763754\n",
      "soybeans           0.879882    0.938020\n",
      "wheat             71.023937    8.427570\n"
     ]
    },
    {
     "data": {
      "text/plain": [
       "Text(0.5, 1.0, 'Standard Deviation CO2 Emission')"
      ]
     },
     "execution_count": 41,
     "metadata": {},
     "output_type": "execute_result"
    },
    {
     "data": {
      "image/png": "[encoded data removed]",
      "text/plain": [
       "<Figure size 1080x576 with 2 Axes>"
      ]
     },
     "metadata": {
      "needs_background": "light"
     },
     "output_type": "display_data"
    }
   ],
   "source": [
    "# Print variance and sd of co2_emission for each food_category\n",
    "var_std=food_consumption.groupby('food_category')['co2_emission'].agg(['var','std'])\n",
    "print(food_consumption.groupby('food_category')['co2_emission'].agg(['var','std']))\n",
    "\n",
    "#Plotting values\n",
    "fig, axes = plt.subplots(nrows=2, ncols=1, figsize=(15,8))\n",
    "\n",
    "axes[0].bar(var_std.index, var_std['var'])\n",
    "axes[0].set_title('Variance of CO2 Emission')\n",
    "axes[1].bar(var_std.index, var_std['std'])\n",
    "axes[1].set_title('Standard Deviation CO2 Emission')"
   ]
  },
  {
   "cell_type": "code",
   "execution_count": 52,
   "metadata": {},
   "outputs": [
    {
     "data": {
      "text/plain": [
       "<AxesSubplot: ylabel='Frequency'>"
      ]
     },
     "execution_count": 52,
     "metadata": {},
     "output_type": "execute_result"
    },
    {
     "data": {
      "image/png": "[encoded data removed]",
      "text/plain": [
       "<Figure size 432x288 with 1 Axes>"
      ]
     },
     "metadata": {
      "needs_background": "light"
     },
     "output_type": "display_data"
    }
   ],
   "source": [
    "test= food_consumption['co2_emission'][food_consumption['food_category']==\"beef\"]\n",
    "test.plot(kind='hist')"
   ]
  }
 ],
 "metadata": {
  "kernelspec": {
   "display_name": "base",
   "language": "python",
   "name": "python3"
  },
  "language_info": {
   "codemirror_mode": {
    "name": "ipython",
    "version": 3
   },
   "file_extension": ".py",
   "mimetype": "text/x-python",
   "name": "python",
   "nbconvert_exporter": "python",
   "pygments_lexer": "ipython3",
   "version": "3.9.12"
  },
  "orig_nbformat": 4
 },
 "nbformat": 4,
 "nbformat_minor": 2
}
