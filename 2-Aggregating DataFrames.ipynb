{
 "cells": [
  {
   "attachments": {},
   "cell_type": "markdown",
   "metadata": {},
   "source": [
    "### Inspecting DataFrame "
   ]
  },
  {
   "cell_type": "code",
   "execution_count": 29,
   "metadata": {},
   "outputs": [],
   "source": [
    "#Load libraries\n",
    "import pandas as pd \n",
    "import numpy as np \n",
    "import matplotlib.pyplot as plt"
   ]
  },
  {
   "cell_type": "code",
   "execution_count": 30,
   "metadata": {},
   "outputs": [
    {
     "name": "stdout",
     "output_type": "stream",
     "text": [
      "   store type  department        date  weekly_sales  is_holiday  \\\n",
      "0      1    A           1  2010-02-05      24924.50       False   \n",
      "1      1    A           1  2010-03-05      21827.90       False   \n",
      "2      1    A           1  2010-04-02      57258.43       False   \n",
      "3      1    A           1  2010-05-07      17413.94       False   \n",
      "4      1    A           1  2010-06-04      17558.09       False   \n",
      "\n",
      "   temperature_c  fuel_price_usd_per_l  unemployment  \n",
      "0       5.727778              0.679451         8.106  \n",
      "1       8.055556              0.693452         8.106  \n",
      "2      16.816667              0.718284         7.808  \n",
      "3      22.527778              0.748928         7.808  \n",
      "4      27.050000              0.714586         7.808  \n"
     ]
    }
   ],
   "source": [
    "#Import sales dataset\n",
    "sales = pd.read_csv(\"sales_subset.csv\", sep=',', index_col=\"Unnamed: 0\")\n",
    "print(sales.head())"
   ]
  },
  {
   "cell_type": "code",
   "execution_count": 31,
   "metadata": {},
   "outputs": [
    {
     "name": "stdout",
     "output_type": "stream",
     "text": [
      "<class 'pandas.core.frame.DataFrame'>\n",
      "Int64Index: 10774 entries, 0 to 10773\n",
      "Data columns (total 9 columns):\n",
      " #   Column                Non-Null Count  Dtype  \n",
      "---  ------                --------------  -----  \n",
      " 0   store                 10774 non-null  int64  \n",
      " 1   type                  10774 non-null  object \n",
      " 2   department            10774 non-null  int64  \n",
      " 3   date                  10774 non-null  object \n",
      " 4   weekly_sales          10774 non-null  float64\n",
      " 5   is_holiday            10774 non-null  bool   \n",
      " 6   temperature_c         10774 non-null  float64\n",
      " 7   fuel_price_usd_per_l  10774 non-null  float64\n",
      " 8   unemployment          10774 non-null  float64\n",
      "dtypes: bool(1), float64(4), int64(2), object(2)\n",
      "memory usage: 768.1+ KB\n",
      "None\n"
     ]
    }
   ],
   "source": [
    "# Print the info about the sales DataFrame\n",
    "print(sales.info())"
   ]
  },
  {
   "attachments": {},
   "cell_type": "markdown",
   "metadata": {},
   "source": [
    "### Statistical Analysis"
   ]
  },
  {
   "cell_type": "code",
   "execution_count": 32,
   "metadata": {},
   "outputs": [
    {
     "name": "stdout",
     "output_type": "stream",
     "text": [
      "The mean of weekly_sales is 23843.950\n",
      "\n",
      "----------------------------------------\n",
      "\n",
      "The median of weekly_sales is 12049.065\n"
     ]
    }
   ],
   "source": [
    "# Print the mean of weekly_sales\n",
    "print(\"The mean of weekly_sales is {:.3f}\".format(sales[\"weekly_sales\"].mean()), end=(\"\\n\\n\"))\n",
    "print('--------'*5,end=(\"\\n\\n\"))\n",
    "# Print the median of weekly_sales\n",
    "print(\"The median of weekly_sales is {:.3f}\".format(sales[\"weekly_sales\"].median()))\n"
   ]
  },
  {
   "cell_type": "code",
   "execution_count": 33,
   "metadata": {},
   "outputs": [
    {
     "name": "stdout",
     "output_type": "stream",
     "text": [
      "The recent date is 2012-10-26\n",
      "The oldest date is 2010-02-05\n"
     ]
    }
   ],
   "source": [
    "# Convert 'date' column to datetime type\n",
    "sales['date'] = pd.to_datetime(sales['date'])\n",
    "\n",
    "# Print the maximum of the date column\n",
    "print(f\"The recent date is {sales['date'].max().strftime('%Y-%m-%d')}\")\n",
    "\n",
    "# Print the minimum of the date column\n",
    "print(f\"The oldest date is {sales['date'].min().strftime('%Y-%m-%d')}\")"
   ]
  },
  {
   "cell_type": "code",
   "execution_count": 41,
   "metadata": {},
   "outputs": [
    {
     "name": "stdout",
     "output_type": "stream",
     "text": [
      "First Quartile (25th percentile): 7.583\n",
      "Third Quartile (75th percentile): 24.167\n",
      "Difference between quartiles (IQR): 16.583\n"
     ]
    }
   ],
   "source": [
    "# measure the difference between the first quartile (25th percentile) and the third quartile (75th percentile) of a temperature_c\n",
    "#Method 1\n",
    "per_25th = sales[\"temperature_c\"].quantile(0.25)\n",
    "print(\"First Quartile (25th percentile): {:.3f}\".format(per_25th))\n",
    "\n",
    "per_75th = sales[\"temperature_c\"].quantile(0.75)\n",
    "print(\"Third Quartile (75th percentile): {:.3f}\".format(per_75th))\n",
    "\n",
    "diff_per = per_75th - per_25th\n",
    "print(\"Difference between quartiles (IQR): {:.3f}\".format(diff_per))"
   ]
  },
  {
   "cell_type": "code",
   "execution_count": 42,
   "metadata": {},
   "outputs": [
    {
     "name": "stdout",
     "output_type": "stream",
     "text": [
      "16.583333333333336\n"
     ]
    }
   ],
   "source": [
    "#Method 2\n",
    "def iqr(column):\n",
    "    return column.quantile(0.75) - column.quantile(0.25)\n",
    "    \n",
    "# Print IQR of the temperature_c column\n",
    "print(sales[\"temperature_c\"].agg(iqr))"
   ]
  },
  {
   "cell_type": "code",
   "execution_count": 43,
   "metadata": {},
   "outputs": [
    {
     "name": "stdout",
     "output_type": "stream",
     "text": [
      "temperature_c           16.583333\n",
      "fuel_price_usd_per_l     0.073176\n",
      "unemployment             0.565000\n",
      "dtype: float64\n"
     ]
    }
   ],
   "source": [
    "# A custom IQR function\n",
    "def iqr(column):\n",
    "    return column.quantile(0.75) - column.quantile(0.25)\n",
    "\n",
    "# Update to print IQR of temperature_c, fuel_price_usd_per_l, & unemployment\n",
    "print(sales[[\"temperature_c\", \"fuel_price_usd_per_l\", \"unemployment\"]].agg(iqr))"
   ]
  },
  {
   "cell_type": "code",
   "execution_count": 44,
   "metadata": {},
   "outputs": [
    {
     "name": "stdout",
     "output_type": "stream",
     "text": [
      "        temperature_c  fuel_price_usd_per_l  unemployment\n",
      "iqr         16.583333              0.073176         0.565\n",
      "median      16.966667              0.743381         8.099\n"
     ]
    }
   ],
   "source": [
    "# Import NumPy and create custom IQR function\n",
    "import numpy as np\n",
    "def iqr(column):\n",
    "    return column.quantile(0.75) - column.quantile(0.25)\n",
    "\n",
    "# Update to print IQR and median of temperature_c, fuel_price_usd_per_l, & unemployment\n",
    "print(sales[[\"temperature_c\", \"fuel_price_usd_per_l\", \"unemployment\"]].agg([iqr, np.median]))"
   ]
  },
  {
   "cell_type": "code",
   "execution_count": 54,
   "metadata": {},
   "outputs": [
    {
     "name": "stdout",
     "output_type": "stream",
     "text": [
      "       store type  department       date  weekly_sales  is_holiday  \\\n",
      "0          1    A           1 2010-02-05      24924.50       False   \n",
      "6437      19    A          13 2010-02-05      38597.52       False   \n",
      "1249       2    A          31 2010-02-05       3840.21       False   \n",
      "6449      19    A          14 2010-02-05      17590.59       False   \n",
      "6461      19    A          16 2010-02-05       4929.87       False   \n",
      "...      ...  ...         ...        ...           ...         ...   \n",
      "3592       6    A          99 2012-10-05        440.00       False   \n",
      "8108      20    A          99 2012-10-05        660.00       False   \n",
      "10773     39    A          99 2012-10-05        915.00       False   \n",
      "6257      14    A          96 2012-10-12          3.00       False   \n",
      "3384       6    A          77 2012-10-26        -21.63       False   \n",
      "\n",
      "       temperature_c  fuel_price_usd_per_l  unemployment  \n",
      "0           5.727778              0.679451         8.106  \n",
      "6437       -6.133333              0.780365         8.350  \n",
      "1249        4.550000              0.679451         8.324  \n",
      "6449       -6.133333              0.780365         8.350  \n",
      "6461       -6.133333              0.780365         8.350  \n",
      "...              ...                   ...           ...  \n",
      "3592       21.577778              0.955511         5.329  \n",
      "8108       15.983333              1.052726         7.293  \n",
      "10773      22.250000              0.955511         6.228  \n",
      "6257       12.483333              1.056689         8.667  \n",
      "3384       22.411111              0.926188         5.329  \n",
      "\n",
      "[10774 rows x 9 columns]\n"
     ]
    }
   ],
   "source": [
    "# Sort sales_1_1 by date\n",
    "sales_1_1 = sales.sort_values(\"date\")\n",
    "print(sales_1_1)"
   ]
  },
  {
   "cell_type": "code",
   "execution_count": 57,
   "metadata": {},
   "outputs": [
    {
     "name": "stdout",
     "output_type": "stream",
     "text": [
      "      store type  department       date  weekly_sales  is_holiday  \\\n",
      "0         1    A           1 2010-02-05      24924.50       False   \n",
      "6437     19    A          13 2010-02-05      38597.52       False   \n",
      "1249      2    A          31 2010-02-05       3840.21       False   \n",
      "6449     19    A          14 2010-02-05      17590.59       False   \n",
      "6461     19    A          16 2010-02-05       4929.87       False   \n",
      "\n",
      "      temperature_c  fuel_price_usd_per_l  unemployment  cum_weekly_sales  \\\n",
      "0          5.727778              0.679451         8.106          24924.50   \n",
      "6437      -6.133333              0.780365         8.350          63522.02   \n",
      "1249       4.550000              0.679451         8.324          67362.23   \n",
      "6449      -6.133333              0.780365         8.350          84952.82   \n",
      "6461      -6.133333              0.780365         8.350          89882.69   \n",
      "\n",
      "      cum_max_sales  \n",
      "0          24924.50  \n",
      "6437       38597.52  \n",
      "1249       38597.52  \n",
      "6449       38597.52  \n",
      "6461       38597.52  \n"
     ]
    }
   ],
   "source": [
    "# Get the cumulative sum of weekly_sales, add as cum_weekly_sales col\n",
    "sales_1_1[\"cum_weekly_sales\"] = sales_1_1[\"weekly_sales\"].cumsum()\n",
    "print(sales_1_1.head())"
   ]
  },
  {
   "cell_type": "code",
   "execution_count": 56,
   "metadata": {},
   "outputs": [
    {
     "name": "stdout",
     "output_type": "stream",
     "text": [
      "      store type  department       date  weekly_sales  is_holiday  \\\n",
      "0         1    A           1 2010-02-05      24924.50       False   \n",
      "6437     19    A          13 2010-02-05      38597.52       False   \n",
      "1249      2    A          31 2010-02-05       3840.21       False   \n",
      "6449     19    A          14 2010-02-05      17590.59       False   \n",
      "6461     19    A          16 2010-02-05       4929.87       False   \n",
      "\n",
      "      temperature_c  fuel_price_usd_per_l  unemployment  cum_weekly_sales  \\\n",
      "0          5.727778              0.679451         8.106          24924.50   \n",
      "6437      -6.133333              0.780365         8.350          63522.02   \n",
      "1249       4.550000              0.679451         8.324          67362.23   \n",
      "6449      -6.133333              0.780365         8.350          84952.82   \n",
      "6461      -6.133333              0.780365         8.350          89882.69   \n",
      "\n",
      "      cum_max_sales  \n",
      "0          24924.50  \n",
      "6437       38597.52  \n",
      "1249       38597.52  \n",
      "6449       38597.52  \n",
      "6461       38597.52  \n"
     ]
    }
   ],
   "source": [
    "sales_1_1[\"cum_max_sales\"] = sales_1_1[\"weekly_sales\"].cummax()\n",
    "\n",
    "# See the columns you calculated\n",
    "print(sales_1_1.head())\n"
   ]
  },
  {
   "attachments": {},
   "cell_type": "markdown",
   "metadata": {},
   "source": [
    "### Dropping duplicates"
   ]
  },
  {
   "cell_type": "code",
   "execution_count": 58,
   "metadata": {},
   "outputs": [
    {
     "name": "stdout",
     "output_type": "stream",
     "text": [
      "      store type  department       date  weekly_sales  is_holiday  \\\n",
      "0         1    A           1 2010-02-05      24924.50       False   \n",
      "901       2    A           1 2010-02-05      35034.06       False   \n",
      "1798      4    A           1 2010-02-05      38724.42       False   \n",
      "2699      6    A           1 2010-02-05      25619.00       False   \n",
      "3593     10    B           1 2010-02-05      40212.84       False   \n",
      "\n",
      "      temperature_c  fuel_price_usd_per_l  unemployment  \n",
      "0          5.727778              0.679451         8.106  \n",
      "901        4.550000              0.679451         8.324  \n",
      "1798       6.533333              0.686319         8.623  \n",
      "2699       4.683333              0.679451         7.259  \n",
      "3593      12.411111              0.782478         9.765  \n"
     ]
    }
   ],
   "source": [
    "# Drop duplicate store/type combinations\n",
    "store_types = sales.drop_duplicates(subset=[\"store\",\"type\"])\n",
    "print(store_types.head())"
   ]
  },
  {
   "cell_type": "code",
   "execution_count": 59,
   "metadata": {},
   "outputs": [
    {
     "name": "stdout",
     "output_type": "stream",
     "text": [
      "    store type  department       date  weekly_sales  is_holiday  \\\n",
      "0       1    A           1 2010-02-05      24924.50       False   \n",
      "12      1    A           2 2010-02-05      50605.27       False   \n",
      "24      1    A           3 2010-02-05      13740.12       False   \n",
      "36      1    A           4 2010-02-05      39954.04       False   \n",
      "48      1    A           5 2010-02-05      32229.38       False   \n",
      "\n",
      "    temperature_c  fuel_price_usd_per_l  unemployment  \n",
      "0        5.727778              0.679451         8.106  \n",
      "12       5.727778              0.679451         8.106  \n",
      "24       5.727778              0.679451         8.106  \n",
      "36       5.727778              0.679451         8.106  \n",
      "48       5.727778              0.679451         8.106  \n"
     ]
    }
   ],
   "source": [
    "# Drop duplicate store/department combinations\n",
    "store_depts = sales.drop_duplicates(subset=[\"store\",\"department\"])\n",
    "print(store_depts.head())"
   ]
  },
  {
   "cell_type": "code",
   "execution_count": 60,
   "metadata": {},
   "outputs": [
    {
     "name": "stdout",
     "output_type": "stream",
     "text": [
      "      store type  department       date  weekly_sales  is_holiday  \\\n",
      "498       1    A          45 2010-09-10         11.47        True   \n",
      "691       1    A          77 2011-11-25       1431.00        True   \n",
      "2315      4    A          47 2010-02-12        498.00        True   \n",
      "6735     19    A          39 2012-09-07         13.41        True   \n",
      "6810     19    A          47 2010-12-31       -449.00        True   \n",
      "6815     19    A          47 2012-02-10         15.00        True   \n",
      "6820     19    A          48 2011-09-09        197.00        True   \n",
      "\n",
      "      temperature_c  fuel_price_usd_per_l  unemployment  \n",
      "498       25.938889              0.677602         7.787  \n",
      "691       15.633333              0.854861         7.866  \n",
      "2315      -1.755556              0.679715         8.623  \n",
      "6735      22.333333              1.076766         8.193  \n",
      "6810      -1.861111              0.881278         8.067  \n",
      "6815       0.338889              1.010723         7.943  \n",
      "6820      20.155556              1.038197         7.806  \n"
     ]
    }
   ],
   "source": [
    "# Subset the rows where is_holiday is True and drop duplicate dates\n",
    "holiday_dates = sales[sales[\"is_holiday\"]==True].drop_duplicates(subset=\"date\")\n",
    "# Print date col of holiday_dates\n",
    "print(holiday_dates)"
   ]
  }
 ],
 "metadata": {
  "kernelspec": {
   "display_name": "base",
   "language": "python",
   "name": "python3"
  },
  "language_info": {
   "codemirror_mode": {
    "name": "ipython",
    "version": 3
   },
   "file_extension": ".py",
   "mimetype": "text/x-python",
   "name": "python",
   "nbconvert_exporter": "python",
   "pygments_lexer": "ipython3",
   "version": "3.9.12"
  },
  "orig_nbformat": 4
 },
 "nbformat": 4,
 "nbformat_minor": 2
}
